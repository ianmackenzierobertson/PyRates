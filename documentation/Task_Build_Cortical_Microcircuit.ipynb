{
 "cells": [
  {
   "cell_type": "markdown",
   "metadata": {},
   "source": [
    "# Interactive notebook on how to build and examine neurodynamic models in PyRates: \n",
    "\n",
    "## Setting up a Jansen-Rit-like cortical microcircuit using the Montbrio population model\n",
    "\n",
    "In this example, it is your task to use PyRates to build a new model of a cortical microcircuit, fusing the architecture of the Jansen-Rit model and the evolution equations for the population dynamics proposed by Montbrió et al. (2015, Phys Rev X). \n",
    "\n",
    "Montbrio and colleagues derived a set of two coupled ODEs describing the dynamics of the average firing rate $r$ and membrane potential $v$ of a population of globally coupled quadratic integrate-and-fire neurons. The evolution equations for an excitatory QIF population are given by:\n",
    "\n",
    "$$\\tau \\dot r = \\frac{\\Delta}{\\pi\\tau} +2 r v$$\n",
    "$$\\tau \\dot v = v^2 +\\eta + I_{ext}(t) + (Jr+r_{exc}-r_{inh}) \\tau - (\\pi r \\tau)^2$$\n",
    "\n",
    "With $\\tau$ being the evolution time constant,  $J$ is the global coupling strength, $I_{ext}$ is external current and $\\eta$ and $\\Delta$ are the average and FWHM of the background input, respectively. We added $r_{exc}$ and $r_{inh}$ as placeholders for input from other excitatory or inhibitory populations that we may add later on. In the standard equations by Montbrió and colleagues, these variables are equal to 0.\n",
    "\n",
    "The Jansen-Rit architecture is characterized by the following features:\n",
    "- 3 interconnected populations: Pyramidal cells, excitatory interneurons and inhibitory interneurons\n",
    "- Synaptic dynamics are expressed by convolutions with alpha kernels, describing an exponential rise and decay of the synaptic response\n",
    "\n",
    "The benefit of a QIF-based cortical microcircuit is that neural refractoriness is represented in the single cell model and not lost by the mean-field reduction of Montbrio and colleagues. This leads to more realistic synchronization behavior within populations and allows for an explicit description of the amount of synchrony within a population. Given the extensive use of neural population models to investigate neural synchronization behavior in macroscopic neural networks (i.e. connectome models), this improvement could allow to capture a number of features of neural synchronization dynamics that could not be explained by models like the Jansen-Rit model that provide no direct description of the level of neural synchronization.\n",
    "\n",
    "So lets start setting up the model.\n",
    "\n",
    "## Step I: Implementing the Montbrio population dynamics in PyRates\n",
    "\n",
    "### I.a setting of the operator templates\n",
    "\n",
    "Your first task is to set up the operators implementing the equations from above. Thereby, you should distinguish between operators for excitatory and inhibitory populations, since we need both of them in the final model. In the cell below, we already provided some of the code required to do this. You just have to fill in the blank spots, marked by `...`."
   ]
  },
  {
   "cell_type": "code",
   "execution_count": 3,
   "metadata": {},
   "outputs": [],
   "source": [
    "import numpy as np\n",
    "from pyrates.frontend import OperatorTemplate\n",
    "\n",
    "# TODO: implement your solution below\n",
    "#####################################\n",
    "\n",
    "# equations for excitatory population\n",
    "exc = ['d/dt * r = (delta/(PI*tau)+2.*r*v)/tau',\n",
    "       'd/dt * v = ...']\n",
    "\n",
    "# equations for inhibitory population\n",
    "inh = [...]\n",
    "\n",
    "# equation variables\n",
    "variables = {'delta': 1.0,\n",
    "             'tau': 1.0,\n",
    "             'eta': -5.0,\n",
    "             'J': 15.0,\n",
    "             'r': 'output',\n",
    "             'v': '...',\n",
    "             'I_ext': 'input',\n",
    "             'r_inh': 'input',\n",
    "             'r_exc': '...'}\n",
    "\n",
    "# operator setup\n",
    "exc_temp = OperatorTemplate(name='Op_exc', path=None, equations=exc, variables=variables)\n",
    "inh_temp = ..."
   ]
  },
  {
   "cell_type": "markdown",
   "metadata": {},
   "source": [
    "### I.b setting up the node and circuit templates\n",
    "\n",
    "Your next task is to create a circuit with a single node representing an excitatory QIF population governed by the above defined excitatory population operator."
   ]
  },
  {
   "cell_type": "code",
   "execution_count": 4,
   "metadata": {},
   "outputs": [],
   "source": [
    "from pyrates.frontend import NodeTemplate, CircuitTemplate\n",
    "\n",
    "# TODO: implement your solution below\n",
    "#####################################\n",
    "\n",
    "# set up the node template\n",
    "node_exc_temp = NodeTemplate(name='Pop_exc', path=None, operators=[...])\n",
    "\n",
    "# set up the circuit template\n",
    "pop_exc_temp = CircuitTemplate(name='EC', path=None, nodes={'Pop_exc': ...})\n",
    "\n",
    "# transform the circuit template into an intermediate representation\n",
    "pop_exc_ir = pop_exc_temp.apply()"
   ]
  },
  {
   "cell_type": "markdown",
   "metadata": {},
   "source": [
    "### I.c simulating the population dynamics\n",
    "\n",
    "Now, let's test whether the circuit behaves as expected, by simulating its behavior given some transient input."
   ]
  },
  {
   "cell_type": "code",
   "execution_count": null,
   "metadata": {},
   "outputs": [],
   "source": [
    "from pyrates.backend import ComputeGraph\n",
    "\n",
    "dt = 1e-3                                      # integration step size in s\n",
    "dts = 1e-2                                     # variable storage sub-sampling step size in s\n",
    "T = 42.                                        # total simulation time in s\n",
    "inp = np.zeros((int(T/dt), 1))                 # external input to the population\n",
    "inp[int(6./dt):int((T-12.)/dt)] = 3.\n",
    "\n",
    "# TODO: implement you solution below\n",
    "####################################\n",
    "\n",
    "# perform a numerical simulation with input delivered to u and recordings of v and r\n",
    "results, _, _ = model.run(simulation_time=T, \n",
    "                          inputs={\".../.../u\": inp},\n",
    "                          outputs={\"r\": \"Pop_exc/Op_exc/...\", \n",
    "                                   \"v\": \"...\"},\n",
    "                          sampling_step_size=dts,\n",
    "                          step_size=dt,\n",
    "                          in_place=False, \n",
    "                          clear=True)"
   ]
  },
  {
   "cell_type": "markdown",
   "metadata": {},
   "source": [
    "### I.d visualizing the simulation results\n",
    "\n",
    "This simulation should procude output timeseries equivalent to those shown below. Execute the next cell to visualize your simulation results and see whether they look alike.\n",
    "\n",
    "<img src=\"img/qif_exc.svg\">"
   ]
  },
  {
   "cell_type": "code",
   "execution_count": null,
   "metadata": {},
   "outputs": [],
   "source": [
    "%matplotlib inline\n",
    "import matplotlib.pyplot as plt\n",
    "\n",
    "fig, axes = plt.subplots(nrows=2, figsize=(15, 8))\n",
    "\n",
    "# TODO: Implement your solution below\n",
    "#####################################\n",
    "\n",
    "# plot the firing rate in one axis\n",
    "ax=axes[0]\n",
    "ax.plot(results['...'])\n",
    "\n",
    "# plot the membrane potential in the other axis\n",
    "ax=axes[1]\n",
    "ax.plot('...')"
   ]
  },
  {
   "cell_type": "markdown",
   "metadata": {},
   "source": [
    "## Step II: Creating a circuit of 3 interconnected QIF populations\n",
    "\n",
    "Now that the operators are set up and tested, your task is to create 3 populations like the one above, connect them to a Jansen-Rit like circuit and choose their parameters such that they represent a pyramidal cell, excitatory interneuron and inhibitory interneuron population. The latter leaves some room for exploration/optimization. However, for now we would like the time-scale of the inhibitory population to be twice as long as the one of the excitatory populations. For setting up the connections, a reminder of the basic connectivity profile of the Jansen-Rit model can be found below.\n",
    "\n",
    "<img src=\"img/jrc_simple.png\" width=\"300\">\n",
    "\n",
    "### II.a defining the model"
   ]
  },
  {
   "cell_type": "code",
   "execution_count": null,
   "metadata": {},
   "outputs": [],
   "source": [
    "# TODO: implement your solution below\n",
    "#####################################\n",
    "\n",
    "# set up the population templates\n",
    "ein_temp = NodeTemplate(name='EIN', path=None, operators={...: {'eta': -2.5, 'J': 0.0}})\n",
    "iin_temp = NodeTemplate(name='IIN', path=None, operators={...: {'tau': ..., 'J': 0.0, \n",
    "                                                                'eta': -2.5}})\n",
    "pc_temp = ...\n",
    "\n",
    "# set up the circuit template\n",
    "jrc = CircuitTemplate(name='JRC_simple', path=None,\n",
    "                      nodes={'PC': pc_temp, ...}\n",
    "                      )\n",
    "\n",
    "# add edges between the nodes\n",
    "jrc.add_edges_from([('PC/Op_exc/r', 'EIN/Op_exc/r_exc', {'weight': 13.5}),\n",
    "                    ('EIN/.../...', 'PC/Op_exc/...', {'weight': 1.8*13.5}),\n",
    "                    ('PC/Op_exc/r', '...', {'weight': 0.25*13.5}),\n",
    "                    ('...', 'PC/Op_exc/r_inh', {'...': 1.75*13.5})])"
   ]
  },
  {
   "cell_type": "markdown",
   "metadata": {},
   "source": [
    "### II.b simulating and visualizing the model dynamics\n",
    "\n",
    "Now, lets simulate the behavior of the 3-population model. Feel free to play around with the parameters of the operators/edges in the cell above and see how it affects the model dynamics. To proceed, fill in the gaps in the cell below."
   ]
  },
  {
   "cell_type": "code",
   "execution_count": null,
   "metadata": {},
   "outputs": [],
   "source": [
    "inp = np.zeros((int(T/dt), 1))\n",
    "inp[int(6./dt):int((T-12.)/dt)] = 3.\n",
    "\n",
    "# TODO: implement your solution below\n",
    "#####################################\n",
    "\n",
    "# simulate the model behavior with input delivered to the PCs and recordings of all r's\n",
    "results = model.run(simulation_time = T,\n",
    "                    step_size=1e-4,\n",
    "                    sampling_step_size=1e-3,\n",
    "                    outputs={'r_PC': 'PC/Op_exc/r', \n",
    "                             'r_EIN': 'EIN/Op_exc/r', \n",
    "                             'r_IIN': 'IIN/Op_inh/r'}, \n",
    "                    inputs={'PC/Op_exc/I_ext' : inp}\n",
    "                   )\n",
    "\n",
    "# END TODO: Below there is plotting\n",
    "###################################\n",
    "\n",
    "fig, ax = plt.subplots(figsize=(14, 6))\n",
    "ax.plot(results)"
   ]
  },
  {
   "cell_type": "markdown",
   "metadata": {},
   "source": [
    "## Step III: Adding synaptic dynamics to the circuit\n",
    "\n",
    "To finalize the cortical microcircuit architecture, your task is to add a description of the synaptic response dynamics to each connection in the circuit. To this end, implement a simple, exponentially decaying model to each synapse type in the model (let's distinguish between excitatory and inhibitory synapses for now). The evolution equation of the synaptic current $I_{syn}$ is given by:\n",
    "\n",
    "$$\\dot{I_{syn}} = \\sum_n r_n - \\frac{I_{syn}}{\\tau_{syn}}$$\n",
    "\n",
    "with $\\tau_{syn}$ being the time-scale of the synapse and the sum being defined over all incoming firing rates. This adds a secondary time-scale to the model, which we could choose according to some experimental measurements of AMPA or GABA dynamics, for example. However, to stick close to the original Jansen-Rit model, we set the synaptic time-scales equal to the membrane time constants, such that we have one fast excitatory and one slow inhibitory time-scale. \n",
    "\n",
    "### III.1 defining the model\n",
    "\n",
    "Try to re-build the operators from Step I describing the population dynamics to include these synaptic dynamics."
   ]
  },
  {
   "cell_type": "code",
   "execution_count": null,
   "metadata": {},
   "outputs": [],
   "source": [
    "# TODO: implement your solution below\n",
    "#####################################\n",
    "\n",
    "# define the equations for the excitatory populations\n",
    "exc_syn = ['d/dt * r = (delta/(PI*tau) + 2.*r*v)/tau',\n",
    "           'd/dt * v = (v^2 + eta + I_ext + (...)*tau - (PI*r*tau)^2)/tau',\n",
    "           'd/dt * I_exc = ... - I_exc/tau_exc',\n",
    "           '... = r_inh - ...']\n",
    "\n",
    "# define the equations for the inhibitory population\n",
    "inh_syn = ['d/dt * r = (delta/(PI*tau) + 2.*r*v)/tau',\n",
    "           'd/dt * v = (v^2 + eta + I_ext + (...)*tau - (PI*r*tau)^2)/tau',\n",
    "           '... = ... - I_exc/tau_exc',\n",
    "           'd/dt * I_inh = ... - I_inh/tau_inh']\n",
    "\n",
    "# define the equation variables\n",
    "variables = {'delta': 1.0,\n",
    "             'tau': 1.0,\n",
    "             'eta': -2.5,\n",
    "             'J': 0.0,\n",
    "             'tau_exc': 1.0,\n",
    "             'tau_inh': 2.0,\n",
    "             'r': 'output',\n",
    "             'v': 'variable',\n",
    "             'I_ext': 'input',\n",
    "             ...\n",
    "             }\n",
    "\n",
    "# set up the operator templates for the excitatory and inhibitory operator\n",
    "exc_syn_temp = OperatorTemplate(name='Op_exc_syn', path=None, equations=..., variables=variables)\n",
    "inh_syn_temp = ..."
   ]
  },
  {
   "cell_type": "markdown",
   "metadata": {},
   "source": [
    "And now, let's rebuild the circuit from Step II based on the new operators."
   ]
  },
  {
   "cell_type": "code",
   "execution_count": null,
   "metadata": {},
   "outputs": [],
   "source": [
    "from copy import deepcopy\n",
    "\n",
    "# TODO: implement your solution below\n",
    "#####################################\n",
    "\n",
    "# set up the node templates with the respective operators\n",
    "pc_syn_temp = NodeTemplate(name='PC', path=None, operators=[...])\n",
    "ein_syn_temp = NodeTemplate(name='EIN', path=None, operators={exc_syn_temp: {'eta': -2.5}})\n",
    "iin_syn_temp = NodeTemplate(name='IIN', path=None, operators={inh_syn_temp: {'eta': -2.5, \n",
    "                                                                             'tau': ...}})\n",
    "\n",
    "# set up a template of the 3 nodes and their edges\n",
    "nodes = {'PC': pc_syn_temp, \n",
    "         ...}\n",
    "edges = [('PC/Op_exc_syn/r', 'EIN/Op_exc_syn/r_exc', None, {'weight': 13.5}),\n",
    "         ('...', '...', None, {'weight': 1.8*13.5}),\n",
    "         ('...', '...', None, {'weight': 0.25*13.5}),\n",
    "         ('...', '...', None, {'weight': 1.75*13.5})]\n",
    "jrc2 = CircuitTemplate(name='JRC_syns', path=None, nodes=nodes, edges=edges)"
   ]
  },
  {
   "cell_type": "markdown",
   "metadata": {},
   "source": [
    "### III.b simulation and visualization\n",
    "\n",
    "Again, let's test how the circuit behaves."
   ]
  },
  {
   "cell_type": "code",
   "execution_count": null,
   "metadata": {},
   "outputs": [],
   "source": [
    "inp = np.zeros((int(T/dt), 1))\n",
    "inp[int(6./dt):int((T-12.)/dt)] = 6.\n",
    "\n",
    "# TODO: implement your solution below\n",
    "#####################################\n",
    "\n",
    "# perform a simulation with input delivered to the PCs and recordings of all r's\n",
    "results = model.run(simulation_time = T, \n",
    "                    outputs={'r_PC': 'PC/.../r', \n",
    "                             'r_EIN': ..., \n",
    "                             'r_IIN': ...}, \n",
    "                    inputs={...: inp})\n",
    "\n",
    "# END TODO: Below there is plotting\n",
    "###################################\n",
    "\n",
    "fig, ax = plt.subplots(figsize=(14, 6))\n",
    "ax.plot(results)"
   ]
  },
  {
   "cell_type": "markdown",
   "metadata": {},
   "source": [
    "## Step IV: Investigating the models parameter space\n",
    "\n",
    "In a final step, your task is to perform some parameter sweeps to gain an intuition of how different parameters can affect the model dynamics. \n",
    "\n",
    "Below, you will find cells with 2 different parameter sweeps. \n",
    "One that examines how the model response changes when the strength of the self connections $J$ of each population are altered. Since all three $J$ are changed at the same rate, this is a 1D parameter sweep. \n",
    "The other one examines the dependence of the model dynamcis on the connection strengths of the couplings from excitatory and inhibitory population onto the pyramidal cells. Since the connection strengths are altered independently, this results in a 2D parameter sweep. \n",
    "\n",
    "Fill in the blanks to get them running.\n",
    "\n",
    "### IV.a parameter sweep over $J$"
   ]
  },
  {
   "cell_type": "code",
   "execution_count": null,
   "metadata": {},
   "outputs": [],
   "source": [
    "from pyrates import grid_search\n",
    "import matplotlib.pyplot as plt\n",
    "\n",
    "# definition of parameter sweep values\n",
    "Js = np.linspace(0, 24, 10)\n",
    "\n",
    "# other simulation parameters\n",
    "T = 40.\n",
    "dt = 1e-3\n",
    "dts = 1e-2\n",
    "inp = np.zeros((int(T/dt), 1))\n",
    "inp[int(6./dt):int((T-12.)/dt)] = 3.\n",
    "\n",
    "# TODO: implement your solution below\n",
    "#####################################\n",
    "\n",
    "# perform a parameter sweep / grid search over all Js using the model from above\n",
    "results, params = grid_search(jrc2, param_grid={'J': ...}, \n",
    "                              param_map={'J': {'vars': [...],\n",
    "                                               'nodes': ['PC', '...', '...']}},\n",
    "                              simulation_time=T, step_size=dt, sampling_step_size=dts,\n",
    "                              inputs={'PC/Op_exc_syn/I_ext': ext_input},\n",
    "                              outputs={'r': 'PC/Op_exc_syn/r'},\n",
    "                              vectorize=True, solver='scipy', in_place=False)\n",
    "\n",
    "# END TODO: Below there is plotting\n",
    "###################################\n",
    "\n",
    "fig, axes = plt.subplots(nrows=len(Js), figsize=(10, 20))\n",
    "for i, ax in enumerate(axes):\n",
    "    ax.plot(results.iloc[:, i], ylabel='r')\n",
    "    ax.legend([f'J = {params.iloc[0, i]}'], loc='upper right')"
   ]
  },
  {
   "cell_type": "markdown",
   "metadata": {},
   "source": [
    "#### IV.b parameter sweep over 2 coupling weights"
   ]
  },
  {
   "cell_type": "code",
   "execution_count": null,
   "metadata": {},
   "outputs": [],
   "source": [
    "# definition of parameter sweep values\n",
    "w_ein_pc = np.linspace(0.5, 2, 10) * 0.8*13.5\n",
    "w_iin_pc = np.linspace(0.5, 2, 10) * 1.75*13.5\n",
    "J = 6.  # choose any value that you consider interesting based on the previous parameter sweep\n",
    "\n",
    "# other simulation parameters\n",
    "T = 100.\n",
    "dt = 1e-3\n",
    "dts = 1e-2\n",
    "ext_input = np.random.uniform(3., 5., (int(T/dt), 1))\n",
    "\n",
    "# TODO: implement your solution below\n",
    "#####################################\n",
    "\n",
    "# perform a parameter sweep / grid search over all combinations of tau_e and tau_i\n",
    "results, params = grid_search(\n",
    "    jrc2, \n",
    "    param_grid={'w_ep': ..., 'w_ip': ..., 'J': ...}, \n",
    "    param_map={'w_ep': {'vars': [...],\n",
    "                        'edges': [('EIN', 'PC', 0)]},\n",
    "               'w_ip': {...},\n",
    "               'J': {...}},\n",
    "    simulation_time=T, dt=dt, sampling_step_size=dts,\n",
    "    inputs={'PCs/Op_exc_syn/I_ext': ext_input},\n",
    "    outputs={'r': 'PCs/Op_exc_syn/r'},\n",
    "    vectorize=True, solver='scipy', in_place=False,\n",
    "    permute_grid=True\n",
    ")"
   ]
  },
  {
   "cell_type": "markdown",
   "metadata": {},
   "source": [
    "When the above cell executed without errors, you can run the two cells below to **(a)** calculate the power-spectral densities of the pyramidal cell firing rate fluctuations for each condition, and **(b)** plot the frequency with the highest power and the respective power in 2D parameter maps."
   ]
  },
  {
   "cell_type": "code",
   "execution_count": null,
   "metadata": {},
   "outputs": [],
   "source": [
    "# NO TODO: Below the power spectral density is extracted\n",
    "########################################################\n",
    "\n",
    "from pyrates.utility.data_analysis import fft\n",
    "\n",
    "# calculate power-spectral density of firing rate fluctuations\n",
    "max_freq = np.zeros((len(w_ein_pc), len(w_iin_pc)))\n",
    "max_pow = np.zeros_like(max_freq)\n",
    "for key in params.index:\n",
    "    freqs, power = fft(results[key], tmin=40.0)\n",
    "    idx_c = np.argwhere(w_ein_pc == params.loc[key, 'w_ep'])[0] \n",
    "    idx_r = np.argwhere(w_iin_pc == params.loc[key, 'w_ip'])[0]\n",
    "    max_idx = np.argmax(power)\n",
    "    max_freq[idx_r, idx_c] = freqs[max_idx]\n",
    "    max_pow[idx_r, idx_c] = power[max_idx]"
   ]
  },
  {
   "cell_type": "code",
   "execution_count": null,
   "metadata": {},
   "outputs": [],
   "source": [
    "# NO TODO: Below the dominating frequency and its power are plotted\n",
    "###################################################################\n",
    "\n",
    "from pyrates.utility.visualization import plot_connectivity\n",
    "\n",
    "# create 2D plots of maximum frequency and PSD for each parameter set\n",
    "fig, axes = plt.subplots(ncols=2, figsize=(12, 5))\n",
    "plot_connectivity(max_freq, xticklabels=np.round(w_ein_pc, decimals=2), \n",
    "                  yticklabels=np.round(w_iin_pc, decimals=2), ax=axes[0])\n",
    "axes[0].set_xlabel('w_ein_pc')\n",
    "axes[0].set_ylabel('w_iin_pc')\n",
    "axes[0].set_title('Dominant Frequency')\n",
    "plot_connectivity(max_pow.T, xticklabels=np.round(w_ein_pc, decimals=2), \n",
    "                  yticklabels=np.round(w_iin_pc, decimals=2), ax=axes[1])\n",
    "axes[1].set_xlabel('w_ein_pc')\n",
    "axes[1].set_ylabel('w_iin_pc')\n",
    "axes[1].set_title('PSD at Dominant Frequency')\n",
    "plt.tight_layout()"
   ]
  },
  {
   "cell_type": "markdown",
   "metadata": {},
   "source": [
    "If you want to check the raw timeseries corresponding to each point in the 2D grids, you can use the interactive plotting function provided by pyrates. In the first cell below, the backend of matplotlib is changed to allow for interactive plotting. In the last cell, the interactive plot is created. "
   ]
  },
  {
   "cell_type": "code",
   "execution_count": null,
   "metadata": {},
   "outputs": [],
   "source": [
    "%matplotlib notebook\n",
    "from pyrates.utility.visualization import Interactive2DParamPlot"
   ]
  },
  {
   "cell_type": "code",
   "execution_count": null,
   "metadata": {},
   "outputs": [],
   "source": [
    "Interactive2DParamPlot(max_freq, results, w_ein_pc, w_iin_pc, params, tmin=40.0, subplots=plt.subplots(ncols=2, nrows=1, figsize=(12, 5)))"
   ]
  }
 ],
 "metadata": {
  "kernelspec": {
   "display_name": "Python 3 (ipykernel)",
   "language": "python",
   "name": "python3"
  },
  "language_info": {
   "codemirror_mode": {
    "name": "ipython",
    "version": 3
   },
   "file_extension": ".py",
   "mimetype": "text/x-python",
   "name": "python",
   "nbconvert_exporter": "python",
   "pygments_lexer": "ipython3",
   "version": "3.8.12"
  }
 },
 "nbformat": 4,
 "nbformat_minor": 2
}
