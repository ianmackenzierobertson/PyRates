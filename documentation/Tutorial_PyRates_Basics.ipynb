{
 "cells": [
  {
   "cell_type": "code",
   "execution_count": 1,
   "metadata": {},
   "outputs": [],
   "source": [
    "%matplotlib inline"
   ]
  },
  {
   "cell_type": "markdown",
   "metadata": {},
   "source": [
    "# PyRates - A Python framework for dynamical systems modeling\n",
    "\n",
    "PyRates is a software that allows to construct complex, dynamical systems in a common language and translate theese systems into various backend implementations and programming languages. Its basic architecture is divided into a frontend for the model definition and a backend that allows to perform numerical simulations and parameter studies.\n",
    "\n",
    "<img src=\"img/pyrates_architecture.png\">\n",
    "\n",
    "When building neural networks with PyRates, the user has to set up templates for the mathematical operators that should be employed in a model, define nodes and edges in a network based on those operators and finally bring them together to a full circuit model.\n",
    "This principle is depicted in the figure below:\n",
    "\n",
    "<img src=\"img/pyrates_model.png\">\n",
    "\n",
    "In the following tutorial, you will learn how to define a neural network model in pyrates, perform numerical simulations on that model, visualize the simulation results and perform parameter sweeps. Afterwards, you can apply that knowledge by filling in the gaps in the jupyter notebook `Task_Build_Cortical_Microcircuit` such that all of its cells can be executed without errors.\n",
    "\n",
    "As a heads up - model set up and numerical simulations in PyRates can be as simple as shown in the cell below:"
   ]
  },
  {
   "cell_type": "code",
   "execution_count": 2,
   "metadata": {},
   "outputs": [
    {
     "name": "stdout",
     "output_type": "stream",
     "text": [
      "Compilation Progress\n",
      "--------------------\n",
      "\t(1) Translating the circuit template into a networkx graph representation...\n",
      "\t\t...finished.\n",
      "\t(2) Preprocessing edge transmission operations...\n",
      "\t\t...finished.\n",
      "\t(3) Parsing the model equations into a compute graph...\n",
      "\t\t...finished.\n",
      "\tModel compilation was finished.\n",
      "Simulation Progress\n",
      "-------------------\n",
      "\t (1) Generating the network run function...\n",
      "\t (2) Processing output variables...\n",
      "\t\t...finished.\n",
      "\t (3) Running the simulation...\n",
      "\t\t...finished after 0.6704886399675161s.\n"
     ]
    },
    {
     "data": {
      "text/plain": [
       "[<matplotlib.lines.Line2D at 0x7fdc6c91f150>]"
      ]
     },
     "execution_count": 2,
     "metadata": {},
     "output_type": "execute_result"
    },
    {
     "data": {
      "image/png": "[encoded data removed]",
      "text/plain": [
       "<Figure size 432x288 with 1 Axes>"
      ]
     },
     "metadata": {
      "needs_background": "light"
     },
     "output_type": "display_data"
    }
   ],
   "source": [
    "from pyrates import simulate\n",
    "import numpy as np\n",
    "import matplotlib.pyplot as plt\n",
    "\n",
    "# model definition\n",
    "model_def = \"model_templates.neural_mass_models.jansenrit.JRC\"\n",
    "\n",
    "# simulation\n",
    "results = simulate(model_def, simulation_time=2.0, step_size=1e-4, \n",
    "                   outputs={'psp_e': 'pc/rpo_e_in/Z',\n",
    "                            'psp_i': 'pc/rpo_i/Z'})\n",
    "\n",
    "# visualization\n",
    "v = results['psp_e'] + results['psp_i']\n",
    "plt.plot(v)"
   ]
  },
  {
   "cell_type": "markdown",
   "metadata": {},
   "source": [
    "which simulated and plotted the average membrane potential of the pyramidal cell population of a Jansen-Rit model over 2 s. In the tutorial part, we will show you how to define this model in PyRates yourself and what the different options are along the model definition."
   ]
  },
  {
   "cell_type": "markdown",
   "metadata": {},
   "source": [
    "# Tutorial: Setting up a Jansen-Rit model in PyRates\n",
    "\n",
    "This tutorial shows you how to set up a network model according to Jansen & Rit (Biol. Cybern., 1995). This model describes the dynamic interactions between the pyramidal cells, excitatory interneurons and inhibitory interneurons in a cortical microcircuit. To this end, it uses a mass modeling approach. Its basic structure is depicted below, while the essential equations will be introduced as part of the tutorial.\n",
    "\n",
    "<img src=\"img/JR_circuit_reduced.png\">\n",
    "\n",
    "In the rest of the tutorial, the following questions will be answered via the example of the Jansen-Rit model:\n",
    "\n",
    "\n",
    "1. **What is a YAML template file?**\n",
    "2. **How do I create a network model from a YAML template?**\n",
    "3. **How do I run simulations on my network model?**\n",
    "4. **How do I run parameter studies on my model?**\n",
    "5. **How can I create a network model without YAML templates?**"
   ]
  },
  {
   "cell_type": "markdown",
   "metadata": {},
   "source": [
    "## Part 1: What is a YAML template file?\n",
    "\n",
    "[YAML](https://yaml.org/spec/1.2/spec.html) is a data formatting specification that aims to be human-readable and machine-readable at the same time. It's current installment can be thought of as an extension to the also popular JSON standard. \n",
    "\n",
    "PyRates uses YAML files to provide a simple and readable way to define network models without any Python code. \n",
    "\n",
    "#### Operator template for the PRO\n",
    "\n",
    "Below you see a YAML template that defines the so-called potential-to-rate operator (PRO) used within each neural population of the Jansen-Rit model. As the name suggests, this operator transforms the average membrane potential within a population into an average firing rate. It is defined by the following instantaneous, sigmoidal function\n",
    "$$m_{out} = \\frac{m_{max}}{1. + \\exp{(r (V_{thr} - V))}}.$$\n",
    "\n",
    "In this equation, $m_{out}$ and $V$ represent the average firing rate and membrane potential, respectively, while $m_{max}$, $r$ and $V_{thr}$ are constants defining the maximum firing rate, firing threshold variance and average firing threshold within the modeled population. A YAML template representation of this operator would look the following:\n",
    "\n",
    "```yaml\n",
    "pro:\n",
    "  base: OperatorTemplate\n",
    "  equations: \"m = m_max / (1. + exp(r*(V_thr - V)))\"\n",
    "  variables:\n",
    "    m: output(0.)\n",
    "    V: input\n",
    "    m_max: 5.\n",
    "    r: 560.\n",
    "    V_thr: 6e-3\n",
    "```"
   ]
  },
  {
   "cell_type": "markdown",
   "metadata": {},
   "source": [
    "#### Operator structure:\n",
    "\n",
    "- PRO defines an operator, so its **`base`** is the python class `OperatorTemplate`. \n",
    "- There can be more than one equation in `equations`, but will stick to one for now\n",
    "- Below, all `variables` in the `equations` are defined, including their variable type and value\n",
    "- Valid variable types are:\n",
    "  - `variable`: for state variables which can change over time.\n",
    "  - `input`: the variable will be provided with a value from a previous operator\n",
    "  - `output`: the value of this variable will be passed to the next operator\n",
    "- Initial values of the above variable types can be specified in brackets, e.g. `variable(0.1)`\n",
    "- Constants are merely defined by their scalar value. Note that PyRates distinguishes between integer and float values for constants.\n",
    "- You can also create sub-templates that overwrite parts of a template or extend it.\n",
    "\n",
    "#### Operator template for the RPO\n",
    "\n",
    "The second important operator in a Jansen-Rit model is the rate-to-potential operator (RPO). This is conceptualized as convolution of the synaptic input firing rate with an alpha kernel, which comprises a second-order description of the synaptic response dynamics:\n",
    "\n",
    "$$\\dot{V} = X$$\n",
    "<br/>\n",
    "$$\\dot{X} = \\frac{H}{\\tau} m_{in} - \\frac{2 X}{\\tau} - \\frac{V}{\\tau^2}.$$\n",
    "\n",
    "In these equations, $V$ represents the average post-synaptic potential and $H$ and $\\tau$ are the efficacy and the time-scale of the respective synapse. A PyRates YAML template for the RPO could look as shown below:"
   ]
  },
  {
   "cell_type": "markdown",
   "metadata": {},
   "source": [
    "```yaml\n",
    "rpo:\n",
    "  base: OperatorTemplate\n",
    "  equations: ['d/dt * V = X', \n",
    "              'd/dt * X = H/tau * m_in - 2 * X/tau - V/tau^2']\n",
    "  variables:\n",
    "    V: output\n",
    "    X: variable\n",
    "    m_in: input\n",
    "    tau: 0.01\n",
    "    H: 0.00325\n",
    "```\n",
    "\n",
    "Via these two operators, each population of the Jansen-Rit circuit can be defined. Connections between those populations are realized via simple linear projections from $m_{out}$ to $m_{in}$ scaled by coupling constants $c_{ij}$. There are no discrete coupling delays. In PyRates, additional coupling operators are not necessary for simple linear couplings. However, if one requires more complicated coupling operators for a particular model, these coupling operators would be defined similar to the ones above. "
   ]
  },
  {
   "cell_type": "markdown",
   "metadata": {},
   "source": [
    "#### A full network model is called a *circuit* and consists of *nodes* and *edges*, which contain *operators*. \n",
    "\n",
    "Now that the mathematical operators for the Jansen-Rit model are defined, lets build up a circuit of coupled neural populations from them, i.e. the Jansen-Rit circuit (JRC). Again, this can be done via YAML templates. In particular, there are YAML templates specific to nodes, edges and circuits. \n",
    "\n",
    "#### Population templates\n",
    "\n",
    "Lets start with a simple node template for the inhibitory interneuron population (IIN):\n",
    "\n",
    "```yaml\n",
    "IIN:\n",
    "  base: NodeTemplate\n",
    "  operators:\n",
    "    - rpo_e\n",
    "    - pro\n",
    "```\n",
    "\n",
    "This defines a population with 2 operators, one RPO and one PRO, transforming its incoming firing rates into post-synaptic membrane potential changes and its average membrane potential back into an average firing rate. Note that the order in which the operators of a node are defined does not matter. We could have just as well defined the inhibitory interneurons as:\n",
    "\n",
    "```yaml\n",
    "IIN:\n",
    "  base: NodeTemplate\n",
    "  operators:\n",
    "    - pro\n",
    "    - rpo_e\n",
    "```\n",
    "\n",
    "This is, because the operators are re-arranged internally, according to the hierarchical dependencies defined by their input and output variables. Thus, it is important to not build any circular dependencies between the operator inputs and outputs. PyRates will throw an error if it detects any of these. If circular operator dependencies should become necessary somehow, you are required to resolve them by adding an extra edge that links the respective operator variables (should be an edge with source and target coming from the same node).\n",
    "\n",
    "Defining the excitatory interneurons and pyramidal cells looks basically the same:\n",
    "\n",
    "```yaml\n",
    "EIN:\n",
    "  base: NodeTemplate\n",
    "  operators:\n",
    "    - rpo_e\n",
    "    - pro\n",
    "```\n",
    "\n",
    "```yaml\n",
    "PC:\n",
    "  base: NodeTemplate\n",
    "  operators:\n",
    "    - rpo_e_in\n",
    "    - rpo_i\n",
    "    - pro\n",
    "```\n",
    "\n",
    "While the excitatory interneurons are defined via the same operator structure as the excitatory interneurons, the pyramidal cells have two different RPOs, representing different synaptic dynamics for incoming inhibitory and excitatory signals. If one would like to include a self-connection to the inhibitory interneurons, they would also need such an inhibitory RPO.\n",
    "\n",
    "#### Circuits: List of nodes, coupled via edges\n",
    "\n",
    "Multiple nodes are connected via edges to a circuit. The following circuit template defines a full JRC, i.e. an interconnected circuit of PCs, EINs and IINs:\n",
    "\n",
    "```yaml\n",
    "JRC:\n",
    "  base: CircuitTemplate\n",
    "  nodes:\n",
    "    ein: EIN\n",
    "    iin: IIN\n",
    "    pc: PC\n",
    "  edges:\n",
    "    - [pc/pro/m, iin/rpo_e/m_in, null, {weight: 33.75}]\n",
    "    - [pc/pro/m, ein/rpo_e/m_in, null, {weight: 135.}]\n",
    "    - [ein/pro/m, PC/rpo_e_in/m_in, null, {weight: 108.}]\n",
    "    - [iin/pro/m, PC/rpo_i/m_in, null, {weight: -33.75}]\n",
    "```\n",
    "\n",
    "Under `nodes`, all nodes existing in the circuit are defined. Each unique node name should be assigned to a node template.\n",
    "Under `edges`, all edges between nodes are defined by a list with four entries:\n",
    "1. The source variable (`pc/pro/m` refers to variable `m` in operator `pro` of node `pc`)\n",
    "2. The target variable\n",
    "3. An edge template with additional operators (here, `null` means that no particular edge template is used).\n",
    "4. A dictionary of variables and values that are specific to this edge. \n",
    "\n",
    "Independent of any operators, an edge will always apply a `weight` to scale the source variable and a `delay` which defaults to zero in the above case."
   ]
  },
  {
   "cell_type": "markdown",
   "metadata": {},
   "source": [
    "## Part 2: How do I create a network model from my template?\n",
    "\n",
    "### Loading YAML templates\n",
    "\n",
    "#### Loading an operator template\n",
    "\n",
    "Network models are loaded using the `frontend` module of PyRates. This module defines the template classes with a handy `.from_yaml` method to load YAML templates. For example, we can load the above operator template using the `OperatorTemplate` class: \n"
   ]
  },
  {
   "cell_type": "code",
   "execution_count": 3,
   "metadata": {},
   "outputs": [
    {
     "data": {
      "text/plain": [
       "<OperatorTemplate 'model_templates.neural_mass_models.jansenrit.pro'>"
      ]
     },
     "execution_count": 3,
     "metadata": {},
     "output_type": "execute_result"
    }
   ],
   "source": [
    "from pyrates.frontend import OperatorTemplate\n",
    "op = OperatorTemplate.from_yaml(\"model_templates.neural_mass_models.jansenrit.pro\")\n",
    "op"
   ]
  },
  {
   "cell_type": "markdown",
   "metadata": {},
   "source": [
    "Note that the `\".\"` notation only works for python modules with appropriate `__init__.py` files. To point at a certain directory, simply provide a path relative to the folder from which your python script is running (e.g. `\"../../model_templates/neural_mass_models/jansenrit.pro\"`). In this case, `jansenrit` refers to the YAML file where we defined the operator and `pro` is the name of the operator, which is defined exactly as above. \n",
    "\n",
    "Once a template has been loaded, its properties are accessible via attributes, e.g.:"
   ]
  },
  {
   "cell_type": "code",
   "execution_count": 4,
   "metadata": {},
   "outputs": [
    {
     "data": {
      "text/plain": [
       "['m = m_max / (1 + exp(s*(Z_thr-Z)))']"
      ]
     },
     "execution_count": 4,
     "metadata": {},
     "output_type": "execute_result"
    }
   ],
   "source": [
    "op.equations"
   ]
  },
  {
   "cell_type": "code",
   "execution_count": 5,
   "metadata": {},
   "outputs": [
    {
     "data": {
      "text/plain": [
       "{'m': 'output(0.0)',\n",
       " 'm_max': 5.0,\n",
       " 's': 560.0,\n",
       " 'r': 'input(0.0)',\n",
       " 'Z_thr': 0.006,\n",
       " 'Z': 'input(0.0)'}"
      ]
     },
     "execution_count": 5,
     "metadata": {},
     "output_type": "execute_result"
    }
   ],
   "source": [
    "op.variables"
   ]
  },
  {
   "cell_type": "markdown",
   "metadata": {},
   "source": [
    "#### Loading a node template\n",
    "\n",
    "Equivalently, one can load a node template via a `from_yaml` method defined for `NodeTemplate` instances. This works the same way as for operators:\n"
   ]
  },
  {
   "cell_type": "code",
   "execution_count": 6,
   "metadata": {},
   "outputs": [
    {
     "data": {
      "text/plain": [
       "{<OperatorTemplate 'model_templates.neural_mass_models.jansenrit.rpo_e_in'>: {'Z': 0.0,\n",
       "  'X': 0.0,\n",
       "  'tau': 0.01,\n",
       "  'h': 0.00325,\n",
       "  'm_in': 0.0,\n",
       "  'u': 220.0},\n",
       " <OperatorTemplate 'model_templates.neural_mass_models.jansenrit.rpo_i'>: {'Z': 0.0,\n",
       "  'X': 0.0,\n",
       "  'tau': 0.02,\n",
       "  'h': 0.022,\n",
       "  'm_in': 0.0},\n",
       " <OperatorTemplate 'model_templates.neural_mass_models.jansenrit.pro'>: {'m': 0.0,\n",
       "  'm_max': 5.0,\n",
       "  's': 560.0,\n",
       "  'r': 0.0,\n",
       "  'Z_thr': 0.006,\n",
       "  'Z': 0.0}}"
      ]
     },
     "execution_count": 6,
     "metadata": {},
     "output_type": "execute_result"
    }
   ],
   "source": [
    "from pyrates.frontend import NodeTemplate\n",
    "node = NodeTemplate.from_yaml(\"model_templates.neural_mass_models.jansenrit.PC\")\n",
    "node.operators"
   ]
  },
  {
   "cell_type": "markdown",
   "metadata": {},
   "source": [
    "...which shows the expected operator structure of our pyramidal cell population."
   ]
  },
  {
   "cell_type": "markdown",
   "metadata": {},
   "source": [
    "#### Loading a circuit template\n",
    "In the same fashion, we can use `CircuitTemplate` to load a circuit:"
   ]
  },
  {
   "cell_type": "code",
   "execution_count": 7,
   "metadata": {},
   "outputs": [],
   "source": [
    "from pyrates.frontend import CircuitTemplate\n",
    "jrc = CircuitTemplate.from_yaml(\"model_templates.neural_mass_models.jansenrit.JRC\")"
   ]
  },
  {
   "cell_type": "code",
   "execution_count": 8,
   "metadata": {},
   "outputs": [
    {
     "data": {
      "text/plain": [
       "{'pc': <NodeTemplate 'model_templates.neural_mass_models.jansenrit.PC'>,\n",
       " 'ein': <NodeTemplate 'model_templates.neural_mass_models.jansenrit.IN'>,\n",
       " 'iin': <NodeTemplate 'model_templates.neural_mass_models.jansenrit.IN'>}"
      ]
     },
     "execution_count": 8,
     "metadata": {},
     "output_type": "execute_result"
    }
   ],
   "source": [
    "jrc.nodes"
   ]
  },
  {
   "cell_type": "code",
   "execution_count": 14,
   "metadata": {},
   "outputs": [
    {
     "data": {
      "text/plain": [
       "[('pc/pro/m', 'ein/rpo_e/m_in', None, {'weight': 135.0}, False),\n",
       " ('pc/pro/m', 'iin/rpo_e/m_in', None, {'weight': 33.75}, False),\n",
       " ('ein/pro/m', 'pc/rpo_e_in/m_in', None, {'weight': 108.0}, False),\n",
       " ('iin/pro/m', 'pc/rpo_i/m_in', None, {'weight': -33.75}, False)]"
      ]
     },
     "execution_count": 14,
     "metadata": {},
     "output_type": "execute_result"
    }
   ],
   "source": [
    "jrc.edges"
   ]
  },
  {
   "cell_type": "markdown",
   "metadata": {},
   "source": [
    "### Changing existing PyRates models\n",
    "\n",
    "#### Updating single variables\n",
    "\n",
    "To update single variables on a PyRates `CircuitTemplate` instance, a simple method exists on the instance: `CircuiTemplate.update_var()`. This method takes two optional keyword arguments `node_vars` and `edge_vars`, which can be used to update variables defined on nodes and edges, respectively.\n",
    "Below, an example is provided for each of the two cases."
   ]
  },
  {
   "cell_type": "code",
   "execution_count": 13,
   "metadata": {},
   "outputs": [
    {
     "name": "stdout",
     "output_type": "stream",
     "text": [
      "PC operators (default)\n",
      "{<OperatorTemplate 'model_templates.neural_mass_models.jansenrit.rpo_e_in'>: {'Z': 0.0, 'X': 0.0, 'tau': 0.01, 'h': 0.00325, 'm_in': 0.0, 'u': 220.0}, <OperatorTemplate 'model_templates.neural_mass_models.jansenrit.rpo_i'>: {'Z': 0.0, 'X': 0.0, 'tau': 0.02, 'h': 0.022, 'm_in': 0.0}, <OperatorTemplate 'model_templates.neural_mass_models.jansenrit.pro'>: {'m': 0.0, 'm_max': 5.0, 's': 400.0, 'r': 0.0, 'Z_thr': 0.006, 'Z': 0.0}}\n",
      "\n",
      "PC operators (updated)\n",
      "{<OperatorTemplate 'model_templates.neural_mass_models.jansenrit.rpo_e_in'>: {'Z': 0.0, 'X': 0.0, 'tau': 0.01, 'h': 0.00325, 'm_in': 0.0, 'u': 220.0}, <OperatorTemplate 'model_templates.neural_mass_models.jansenrit.rpo_i'>: {'Z': 0.0, 'X': 0.0, 'tau': 0.02, 'h': 0.022, 'm_in': 0.0}, <OperatorTemplate 'model_templates.neural_mass_models.jansenrit.pro'>: {'m': 0.0, 'm_max': 5.0, 's': 400.0, 'r': 0.0, 'Z_thr': 0.006, 'Z': 0.0}}\n",
      "\n",
      "EIN operators (updated)\n",
      "{<OperatorTemplate 'model_templates.neural_mass_models.jansenrit.rpo_e'>: {'Z': 0.0, 'X': 0.0, 'tau': 0.01, 'h': 0.00325, 'm_in': 0.0}, <OperatorTemplate 'model_templates.neural_mass_models.jansenrit.pro'>: {'m': 0.0, 'm_max': 5.0, 's': 560.0, 'r': 0.0, 'Z_thr': 0.006, 'Z': 0.0}}\n"
     ]
    }
   ],
   "source": [
    "print('PC operators (default):')\n",
    "print(jrc.nodes['pc'].operators)\n",
    "\n",
    "# node variable update\n",
    "jrc.update_var(node_vars={'pc/pro/s': 400.0})\n",
    "\n",
    "print('')\n",
    "print('PC operators (updated):')\n",
    "print(jrc.nodes['pc'].operators)\n",
    "\n",
    "print('')\n",
    "print('EIN operators (updated):')\n",
    "print(jrc.nodes['ein'].operators)"
   ]
  },
  {
   "cell_type": "markdown",
   "metadata": {},
   "source": [
    "As can be seen, the steepness of the sigmoidal PRO on the PC population was updated from $s = 560.0$ to $s = 400.0$. However, the value of $s$ on the EIN population (which was defined with the same PRO `OperatorTemplate`), remained unchanged at $s = 560.0$."
   ]
  },
  {
   "cell_type": "code",
   "execution_count": 24,
   "metadata": {},
   "outputs": [
    {
     "name": "stdout",
     "output_type": "stream",
     "text": [
      "PC -> EIN weight (default):\n",
      "160.0\n"
     ]
    },
    {
     "ename": "ValueError",
     "evalue": "too many values to unpack (expected 3)",
     "output_type": "error",
     "traceback": [
      "\u001b[0;31m---------------------------------------------------------------------------\u001b[0m",
      "\u001b[0;31mValueError\u001b[0m                                Traceback (most recent call last)",
      "\u001b[0;32m<ipython-input-24-be81bf4b98b7>\u001b[0m in \u001b[0;36m<module>\u001b[0;34m\u001b[0m\n\u001b[1;32m      3\u001b[0m \u001b[0;34m\u001b[0m\u001b[0m\n\u001b[1;32m      4\u001b[0m \u001b[0;31m# edge variable update\u001b[0m\u001b[0;34m\u001b[0m\u001b[0;34m\u001b[0m\u001b[0;34m\u001b[0m\u001b[0m\n\u001b[0;32m----> 5\u001b[0;31m \u001b[0mjrc\u001b[0m\u001b[0;34m.\u001b[0m\u001b[0mupdate_var\u001b[0m\u001b[0;34m(\u001b[0m\u001b[0medge_vars\u001b[0m\u001b[0;34m=\u001b[0m\u001b[0;34m[\u001b[0m\u001b[0;34m(\u001b[0m\u001b[0;34m'pc/pro/m'\u001b[0m\u001b[0;34m,\u001b[0m \u001b[0;34m'ein/rpo_e/m_in'\u001b[0m\u001b[0;34m,\u001b[0m \u001b[0;32mNone\u001b[0m\u001b[0;34m,\u001b[0m \u001b[0;34m{\u001b[0m\u001b[0;34m'weight'\u001b[0m\u001b[0;34m:\u001b[0m \u001b[0;36m160.0\u001b[0m\u001b[0;34m}\u001b[0m\u001b[0;34m)\u001b[0m\u001b[0;34m]\u001b[0m\u001b[0;34m)\u001b[0m\u001b[0;34m\u001b[0m\u001b[0;34m\u001b[0m\u001b[0m\n\u001b[0m\u001b[1;32m      6\u001b[0m \u001b[0;34m\u001b[0m\u001b[0m\n\u001b[1;32m      7\u001b[0m \u001b[0mprint\u001b[0m\u001b[0;34m(\u001b[0m\u001b[0;34m''\u001b[0m\u001b[0;34m)\u001b[0m\u001b[0;34m\u001b[0m\u001b[0;34m\u001b[0m\u001b[0m\n",
      "\u001b[0;32m~/PycharmProjects/PyRates/pyrates/frontend/template/circuit.py\u001b[0m in \u001b[0;36mupdate_var\u001b[0;34m(self, node_vars, edge_vars)\u001b[0m\n\u001b[1;32m    214\u001b[0m \u001b[0;34m\u001b[0m\u001b[0m\n\u001b[1;32m    215\u001b[0m         \u001b[0;31m# updates to edge variable values\u001b[0m\u001b[0;34m\u001b[0m\u001b[0;34m\u001b[0m\u001b[0;34m\u001b[0m\u001b[0m\n\u001b[0;32m--> 216\u001b[0;31m         \u001b[0;32mfor\u001b[0m \u001b[0msource\u001b[0m\u001b[0;34m,\u001b[0m \u001b[0mtarget\u001b[0m\u001b[0;34m,\u001b[0m \u001b[0medge_dict\u001b[0m \u001b[0;32min\u001b[0m \u001b[0medge_vars\u001b[0m\u001b[0;34m:\u001b[0m\u001b[0;34m\u001b[0m\u001b[0;34m\u001b[0m\u001b[0m\n\u001b[0m\u001b[1;32m    217\u001b[0m             \u001b[0m_\u001b[0m\u001b[0;34m,\u001b[0m \u001b[0m_\u001b[0m\u001b[0;34m,\u001b[0m \u001b[0m_\u001b[0m\u001b[0;34m,\u001b[0m \u001b[0mbase_dict\u001b[0m \u001b[0;34m=\u001b[0m \u001b[0mself\u001b[0m\u001b[0;34m.\u001b[0m\u001b[0mget_edge\u001b[0m\u001b[0;34m(\u001b[0m\u001b[0msource\u001b[0m\u001b[0;34m,\u001b[0m \u001b[0mtarget\u001b[0m\u001b[0;34m)\u001b[0m\u001b[0;34m\u001b[0m\u001b[0;34m\u001b[0m\u001b[0m\n\u001b[1;32m    218\u001b[0m             \u001b[0mbase_dict\u001b[0m\u001b[0;34m.\u001b[0m\u001b[0mupdate\u001b[0m\u001b[0;34m(\u001b[0m\u001b[0medge_dict\u001b[0m\u001b[0;34m)\u001b[0m\u001b[0;34m\u001b[0m\u001b[0;34m\u001b[0m\u001b[0m\n",
      "\u001b[0;31mValueError\u001b[0m: too many values to unpack (expected 3)"
     ]
    }
   ],
   "source": [
    "print('PC -> EIN weight (default):')\n",
    "print(jrc.edges[0][3]['weight'])\n",
    "\n",
    "# edge variable update\n",
    "jrc.update_var(edge_vars=[('pc/pro/m', 'ein/rpo_e/m_in', {'weight': 160.0})])\n",
    "\n",
    "print('')\n",
    "print('PC -> EIN weight (updated):')\n",
    "print(jrc.edges[0][3]['weight'])"
   ]
  },
  {
   "cell_type": "markdown",
   "metadata": {},
   "source": [
    "As can be seen, the scalar weight of the synaptic connection from PC to EIN population increased from $135.0$ to $160.0$."
   ]
  },
  {
   "cell_type": "markdown",
   "metadata": {},
   "source": [
    "### Creating hierarchical networks\n",
    "\n",
    "In PyRates, ciruits can also be constructed from existing `CircuitTemplate` instances, to create hierarchies of nodes and circuits. Here we will go through a minimal example where we will combine two JRCs to form a corctical column model."
   ]
  },
  {
   "cell_type": "code",
   "execution_count": 20,
   "metadata": {},
   "outputs": [
    {
     "data": {
      "text/plain": [
       "{'jrc1': <CircuitTemplate 'model_templates.neural_mass_models.jansenrit.JRC'>,\n",
       " 'jrc2': <CircuitTemplate 'model_templates.neural_mass_models.jansenrit.JRC'>}"
      ]
     },
     "execution_count": 20,
     "metadata": {},
     "output_type": "execute_result"
    }
   ],
   "source": [
    "ccm = CircuitTemplate(name='ccm', circuits={'jrc1': jrc, 'jrc2': jrc}, \n",
    "                      edges=[('jrc1/pc/pro/m', 'jrc2/pc/rpo_e_in/m_in', None, {'weight': 40.0}),\n",
    "                             ('jrc2/pc/pro/m', 'jrc1/pc/rpo_e_in/m_in', None, {'weight': 20.0})]\n",
    "                     )\n",
    "ccm.circuits"
   ]
  },
  {
   "cell_type": "code",
   "execution_count": 21,
   "metadata": {},
   "outputs": [
    {
     "data": {
      "text/plain": [
       "[('jrc1/pc/pro/m', 'jrc2/pc/rpo_e_in/m_in', None, {'weight': 40.0}),\n",
       " ('jrc2/pc/pro/m', 'jrc1/pc/rpo_e_in/m_in', None, {'weight': 20.0})]"
      ]
     },
     "execution_count": 21,
     "metadata": {},
     "output_type": "execute_result"
    }
   ],
   "source": [
    "ccm.edges"
   ]
  },
  {
   "cell_type": "markdown",
   "metadata": {},
   "source": [
    "## Part 3: How does PyRates help me to analyze my model?\n",
    "\n",
    "### Some background information\n",
    "\n",
    "Every `CircuitTemplate` instance allows to perform numerical simulations and parameter studies, or simply for the generation of an optimized run function that evaluates the vector field of the dynamical system represented by that `CircuitTemplate`. For all of these features, the content of the `CircuitTemplate` is translated into a compute graph which represents all variables in the network and the mathematical relationships between them (i.e. it is a graph representation of the system equations). After the compute graph has been generated, it is again translated into a function. Calling that function evaluates all system equations once. This generic function then allows to perform numerical simulations and parameter studies. Below, we will demonstrate how to do this in PyRates itself, but also how to use the function generated by PyRates in combination with other tools.\n",
    "\n",
    "### Performing numerical simulations\n",
    "\n",
    "Each PyRates model represents a dynamical system. Most often, one is interested in the activity of such a system over time. To this end, one has to integrate the evolution equations of the system over time via a numerical solver. Given an initial time and an initial value of all system variables, one can approximate the value of each system variable at a given time point $t$ via such numerical solvers. This is called solving the initial value problem and it is what we refer to when we talk about 'performing numerical simulations'.\n",
    "\n",
    "Below, we perform such a numerical simulation of the cortical column model defined above over the time course of $T = 10.0 s$ using a standard Euler method with step size $dt = 0.0001 s$ for the numerical integration. To this end, we use the `CircuitTemplate.run()` method."
   ]
  },
  {
   "cell_type": "code",
   "execution_count": 23,
   "metadata": {},
   "outputs": [
    {
     "ename": "ValueError",
     "evalue": "too many values to unpack (expected 4)",
     "output_type": "error",
     "traceback": [
      "\u001b[0;31m---------------------------------------------------------------------------\u001b[0m",
      "\u001b[0;31mValueError\u001b[0m                                Traceback (most recent call last)",
      "\u001b[0;32m<ipython-input-23-9a42be5358e0>\u001b[0m in \u001b[0;36m<module>\u001b[0;34m\u001b[0m\n\u001b[1;32m      3\u001b[0m compute_graph = ccm.run(simulation_time=T, step_size=dt, sampling_step_size=dt*10, \n\u001b[1;32m      4\u001b[0m                         \u001b[0moutputs\u001b[0m\u001b[0;34m=\u001b[0m\u001b[0;34m{\u001b[0m\u001b[0;34m'jrc1'\u001b[0m\u001b[0;34m:\u001b[0m \u001b[0;34m'jrc1/pc/rpo_e_in/V'\u001b[0m\u001b[0;34m,\u001b[0m \u001b[0;34m'jrc2'\u001b[0m\u001b[0;34m:\u001b[0m \u001b[0;34m'jrc2/pc/rpo_e_in/V'\u001b[0m\u001b[0;34m}\u001b[0m\u001b[0;34m,\u001b[0m\u001b[0;34m\u001b[0m\u001b[0;34m\u001b[0m\u001b[0m\n\u001b[0;32m----> 5\u001b[0;31m                         backend='default')\n\u001b[0m",
      "\u001b[0;32m~/PycharmProjects/PyRates/pyrates/frontend/template/circuit.py\u001b[0m in \u001b[0;36mrun\u001b[0;34m(self, simulation_time, step_size, inputs, outputs, sampling_step_size, solver, backend, vectorize, verbose, clear, **kwargs)\u001b[0m\n\u001b[1;32m    297\u001b[0m         \u001b[0;31m# apply template (translate into compute graph, optional vectorization process)\u001b[0m\u001b[0;34m\u001b[0m\u001b[0;34m\u001b[0m\u001b[0;34m\u001b[0m\u001b[0m\n\u001b[1;32m    298\u001b[0m         net.apply(adaptive_steps=adaptive_steps, vectorize=vectorize, verbose=verbose, backend=backend,\n\u001b[0;32m--> 299\u001b[0;31m                   step_size=step_size, **kwargs)\n\u001b[0m\u001b[1;32m    300\u001b[0m \u001b[0;34m\u001b[0m\u001b[0m\n\u001b[1;32m    301\u001b[0m         \u001b[0;31m# perform simulation via the graph representation\u001b[0m\u001b[0;34m\u001b[0m\u001b[0;34m\u001b[0m\u001b[0;34m\u001b[0m\u001b[0m\n",
      "\u001b[0;32m~/PycharmProjects/PyRates/pyrates/frontend/template/circuit.py\u001b[0m in \u001b[0;36mapply\u001b[0;34m(self, adaptive_steps, label, node_values, edge_values, vectorize, verbose, **kwargs)\u001b[0m\n\u001b[1;32m    487\u001b[0m \u001b[0;34m\u001b[0m\u001b[0m\n\u001b[1;32m    488\u001b[0m         \u001b[0;31m# group edges that should be vectorized\u001b[0m\u001b[0;34m\u001b[0m\u001b[0;34m\u001b[0m\u001b[0;34m\u001b[0m\u001b[0m\n\u001b[0;32m--> 489\u001b[0;31m         \u001b[0mold_edges\u001b[0m \u001b[0;34m=\u001b[0m \u001b[0mself\u001b[0m\u001b[0;34m.\u001b[0m\u001b[0mcollect_edges\u001b[0m\u001b[0;34m(\u001b[0m\u001b[0mdelay_info\u001b[0m\u001b[0;34m=\u001b[0m\u001b[0;32mTrue\u001b[0m\u001b[0;34m)\u001b[0m\u001b[0;34m\u001b[0m\u001b[0;34m\u001b[0m\u001b[0m\n\u001b[0m\u001b[1;32m    490\u001b[0m         \u001b[0medge_col\u001b[0m \u001b[0;34m=\u001b[0m \u001b[0mself\u001b[0m\u001b[0;34m.\u001b[0m\u001b[0m_group_edges\u001b[0m\u001b[0;34m(\u001b[0m\u001b[0medges\u001b[0m\u001b[0;34m=\u001b[0m\u001b[0mold_edges\u001b[0m\u001b[0;34m)\u001b[0m\u001b[0;34m\u001b[0m\u001b[0;34m\u001b[0m\u001b[0m\n\u001b[1;32m    491\u001b[0m \u001b[0;34m\u001b[0m\u001b[0m\n",
      "\u001b[0;32m~/PycharmProjects/PyRates/pyrates/frontend/template/circuit.py\u001b[0m in \u001b[0;36mcollect_edges\u001b[0;34m(self, delay_info)\u001b[0m\n\u001b[1;32m    766\u001b[0m         \u001b[0;32mfor\u001b[0m \u001b[0mc_scope\u001b[0m\u001b[0;34m,\u001b[0m \u001b[0mc\u001b[0m \u001b[0;32min\u001b[0m \u001b[0mself\u001b[0m\u001b[0;34m.\u001b[0m\u001b[0mcircuits\u001b[0m\u001b[0;34m.\u001b[0m\u001b[0mitems\u001b[0m\u001b[0;34m(\u001b[0m\u001b[0;34m)\u001b[0m\u001b[0;34m:\u001b[0m\u001b[0;34m\u001b[0m\u001b[0;34m\u001b[0m\u001b[0m\n\u001b[1;32m    767\u001b[0m             \u001b[0medges_tmp\u001b[0m \u001b[0;34m=\u001b[0m \u001b[0mc\u001b[0m\u001b[0;34m.\u001b[0m\u001b[0mcollect_edges\u001b[0m\u001b[0;34m(\u001b[0m\u001b[0;34m)\u001b[0m\u001b[0;34m\u001b[0m\u001b[0;34m\u001b[0m\u001b[0m\n\u001b[0;32m--> 768\u001b[0;31m             \u001b[0;32mfor\u001b[0m \u001b[0msvar\u001b[0m\u001b[0;34m,\u001b[0m \u001b[0mtvar\u001b[0m\u001b[0;34m,\u001b[0m \u001b[0mtemplate\u001b[0m\u001b[0;34m,\u001b[0m \u001b[0medge_dict\u001b[0m \u001b[0;32min\u001b[0m \u001b[0medges_tmp\u001b[0m\u001b[0;34m:\u001b[0m\u001b[0;34m\u001b[0m\u001b[0;34m\u001b[0m\u001b[0m\n\u001b[0m\u001b[1;32m    769\u001b[0m                 \u001b[0medges\u001b[0m\u001b[0;34m.\u001b[0m\u001b[0mappend\u001b[0m\u001b[0;34m(\u001b[0m\u001b[0;34m(\u001b[0m\u001b[0;34mf\"{c_scope}/{svar}\"\u001b[0m\u001b[0;34m,\u001b[0m \u001b[0;34mf\"{c_scope}/{tvar}\"\u001b[0m\u001b[0;34m,\u001b[0m \u001b[0mtemplate\u001b[0m\u001b[0;34m,\u001b[0m \u001b[0medge_dict\u001b[0m\u001b[0;34m)\u001b[0m\u001b[0;34m)\u001b[0m\u001b[0;34m\u001b[0m\u001b[0;34m\u001b[0m\u001b[0m\n\u001b[1;32m    770\u001b[0m         \u001b[0;32mif\u001b[0m \u001b[0mdelay_info\u001b[0m\u001b[0;34m:\u001b[0m\u001b[0;34m\u001b[0m\u001b[0;34m\u001b[0m\u001b[0m\n",
      "\u001b[0;31mValueError\u001b[0m: too many values to unpack (expected 4)"
     ]
    }
   ],
   "source": [
    "T = 10.0\n",
    "dt = 0.0001\n",
    "compute_graph = ccm.run(simulation_time=T, step_size=dt, sampling_step_size=dt*10, \n",
    "                        outputs={'jrc1': 'jrc1/pc/rpo_e_in/V', 'jrc2': 'jrc2/pc/rpo_e_in/V'},\n",
    "                        backend='default', vectorize=True)"
   ]
  },
  {
   "cell_type": "markdown",
   "metadata": {},
   "source": [
    "Here, the keyword argument `vectorization` is used to group identical nodes such that their equations can be calculated more efficiently. A such reorganised network consists of 2 instead of 3 nodes, because the EIN and IIN nodes actually contain the same equations:"
   ]
  },
  {
   "cell_type": "code",
   "execution_count": null,
   "metadata": {},
   "outputs": [],
   "source": [
    "compute_graph.nodes"
   ]
  },
  {
   "cell_type": "markdown",
   "metadata": {},
   "source": [
    "### Running simulations\n",
    "\n",
    "Simulations are started using the `.run()` method of our `ComputeGraph`. Note that we are using an *input* variable `u` to pass external input for driving the circuit. The variable `u` is contained in the operator `RPO_e_pc.0` of our `PC` node:"
   ]
  },
  {
   "cell_type": "code",
   "execution_count": null,
   "metadata": {},
   "outputs": [],
   "source": [
    "import numpy as np\n",
    "ext_input = np.random.uniform(120., 320., (int(T/dt), 1))\n",
    "results = compute_graph.run(simulation_time = T, \n",
    "                            outputs={'pc': 'PC/RPO_e_pc/PSP',\n",
    "                                     'ein': 'EIN/RPO_e/PSP',\n",
    "                                     'iin': 'IIN/RPO_e/PSP'}, \n",
    "                            inputs={'PC/RPO_e_pc/u': ext_input})"
   ]
  },
  {
   "cell_type": "markdown",
   "metadata": {},
   "source": [
    "The `outputs` keyword is used to indicate which state variables to record during the simulation. In this case, we record the variable `PSP` on the operators `RPO_e` on each network node (`PC`, `EIN` and `IIN`) and name them after the nodes. \n",
    "\n",
    "The `inputs` argument, on the other hand, is used to apply externally defined input to certain variables in the network. In this example, input is provided to the variable `u` of operator `RPO_e_pc` on node `PC`. \n",
    " \n",
    "Note that input variables need to be defined for each simulation step (number of simulation steps = T/dt). For further keyword arguments that can be provided to the `run` method, please have a look at the methods' docstring. \n",
    "\n",
    "### Examining the simulation results\n",
    "\n",
    "The resulting timeseries are returned as a handy `pandas.DataFrame`:"
   ]
  },
  {
   "cell_type": "code",
   "execution_count": 25,
   "metadata": {},
   "outputs": [
    {
     "data": {
      "text/html": [
       "<div>\n",
       "<style scoped>\n",
       "    .dataframe tbody tr th:only-of-type {\n",
       "        vertical-align: middle;\n",
       "    }\n",
       "\n",
       "    .dataframe tbody tr th {\n",
       "        vertical-align: top;\n",
       "    }\n",
       "\n",
       "    .dataframe thead th {\n",
       "        text-align: right;\n",
       "    }\n",
       "</style>\n",
       "<table border=\"1\" class=\"dataframe\">\n",
       "  <thead>\n",
       "    <tr style=\"text-align: right;\">\n",
       "      <th></th>\n",
       "      <th>psp_e</th>\n",
       "      <th>psp_i</th>\n",
       "    </tr>\n",
       "  </thead>\n",
       "  <tbody>\n",
       "    <tr>\n",
       "      <th>0.0000</th>\n",
       "      <td>0.000000e+00</td>\n",
       "      <td>0.000000e+00</td>\n",
       "    </tr>\n",
       "    <tr>\n",
       "      <th>0.0001</th>\n",
       "      <td>0.000000e+00</td>\n",
       "      <td>0.000000e+00</td>\n",
       "    </tr>\n",
       "    <tr>\n",
       "      <th>0.0002</th>\n",
       "      <td>7.739140e-07</td>\n",
       "      <td>-6.231286e-08</td>\n",
       "    </tr>\n",
       "    <tr>\n",
       "      <th>0.0003</th>\n",
       "      <td>2.306264e-06</td>\n",
       "      <td>-1.863154e-07</td>\n",
       "    </tr>\n",
       "    <tr>\n",
       "      <th>0.0004</th>\n",
       "      <td>4.581805e-06</td>\n",
       "      <td>-3.713899e-07</td>\n",
       "    </tr>\n",
       "  </tbody>\n",
       "</table>\n",
       "</div>"
      ],
      "text/plain": [
       "               psp_e         psp_i\n",
       "0.0000  0.000000e+00  0.000000e+00\n",
       "0.0001  0.000000e+00  0.000000e+00\n",
       "0.0002  7.739140e-07 -6.231286e-08\n",
       "0.0003  2.306264e-06 -1.863154e-07\n",
       "0.0004  4.581805e-06 -3.713899e-07"
      ]
     },
     "execution_count": 25,
     "metadata": {},
     "output_type": "execute_result"
    }
   ],
   "source": [
    "results.head()"
   ]
  },
  {
   "cell_type": "markdown",
   "metadata": {},
   "source": [
    "For visualization, processing and analysis of those timeseries, the results dataframe can often directly be passed to other Python tools such as `matplotlib` and `seaborn`."
   ]
  },
  {
   "cell_type": "code",
   "execution_count": 26,
   "metadata": {},
   "outputs": [
    {
     "data": {
      "text/plain": [
       "[<matplotlib.lines.Line2D at 0x7fdc6c761ed0>,\n",
       " <matplotlib.lines.Line2D at 0x7fdc6c72ea50>]"
      ]
     },
     "execution_count": 26,
     "metadata": {},
     "output_type": "execute_result"
    },
    {
     "data": {
      "image/png": "[encoded data removed]",
      "text/plain": [
       "<Figure size 432x288 with 1 Axes>"
      ]
     },
     "metadata": {
      "needs_background": "light"
     },
     "output_type": "display_data"
    }
   ],
   "source": [
    "import matplotlib.pyplot as plt\n",
    "plt.plot(results)"
   ]
  },
  {
   "cell_type": "markdown",
   "metadata": {},
   "source": [
    "## Part 4: How do I run parameter studies on my model?\n",
    "\n",
    "PyRates also provides functionalities to perform parameter sweeps over high-dimensional model parameter spaces. These functionalities are found in the `utilities` module. They allow to perform multi-dimensional parameter sweeps on single machines using the `grid_search()` function and on compute clusters using the `ClusterGridsearch` class. In the following, we will use `grid_search()` for a simple investigation of how the Jansen-Rit model behavior changes when its connection weights are scaled up or down. "
   ]
  },
  {
   "cell_type": "code",
   "execution_count": null,
   "metadata": {},
   "outputs": [],
   "source": [
    "from pyrates.utility.grid_search import grid_search\n",
    "\n",
    "# generate 5 sets of differently scaled connection strengths\n",
    "C = [68., 128., 135., 270., 675., 1350.]\n",
    "pc_ein, ein_pc, pc_iin, iin_pc = [], [], [], []\n",
    "for c in C:\n",
    "    pc_ein.append(c)\n",
    "    ein_pc.append(0.8*c)\n",
    "    pc_iin.append(0.25*c)\n",
    "    iin_pc.append(0.25*c)\n",
    "\n",
    "# perform parameter study\n",
    "results, params = grid_search(\"model_templates.jansen_rit.simple_jansenrit.JRC\", \n",
    "                              param_grid={'PC_EIN': pc_ein, \n",
    "                                          'EIN_PC': ein_pc, \n",
    "                                          'PC_IIN': pc_iin,\n",
    "                                          'IIN_PC': iin_pc},\n",
    "                              param_map={'PC_EIN': {'vars': ['weight'],\n",
    "                                                    'edges': [('PC', 'EIN', 0)]},\n",
    "                                         'EIN_PC': {'vars': ['weight'],\n",
    "                                                    'edges': [('EIN', 'PC', 0)]},\n",
    "                                         'PC_IIN': {'vars': ['weight'],\n",
    "                                                    'edges': [('PC', 'IIN', 0)]},\n",
    "                                         'IIN_PC': {'vars': ['weight'],\n",
    "                                                    'edges': [('IIN', 'PC', 0)]}},\n",
    "                              inputs={\"PC/RPO_e_pc/u\": ext_input}, \n",
    "                              outputs={\"psp_e\": \"PC/RPO_e_pc/PSP\", \"psp_i\": \"PC/RPO_i/PSP\"},\n",
    "                              step_size=dt, simulation_time=T, sampling_step_size=1e-3,\n",
    "                              permute_grid=False\n",
    "                             )\n",
    "v = results['psp_e'] + results['psp_i']"
   ]
  },
  {
   "cell_type": "markdown",
   "metadata": {},
   "source": [
    "In the above cell, we performed a grid search on the JRC defined in the YAML file we provided the path to via the first argument. Alternatively, we could have passed a `CircuitTemplate` instance here.\n",
    "\n",
    "We told `grid_search` via the `param_grid` argument to sweep over 6 different weights for each of the 4 edges in our circuit (PC $\\rightarrow$ EIN, PC $\\rightarrow$ IIN, EIN $\\rightarrow$ PC and IIN $\\rightarrow$ PC). \n",
    "\n",
    "We further provided a pointer to the respective edge attributes of our JRC with `param_map`. Specifically, we provided a `dict` for each key in `param_grid` containing the names of all edge attributes that should take on the sweep values and the identifiers of the edges that should be included in the sweep.\n",
    "\n",
    "If we would like `grid_search` to go through all possible combinations of the edge scalings (i.e. 4x6), we would need to set `permute_grid` to `True`. With `permute_grid` set to `False`, we will get the results of 6 different parametrizations of the JRC instead (i.e. `grid_search`  loops simultaneously over the positions in the parameter sweeps).\n",
    "\n",
    "All other arguments to `grid_search` are passed on to the `run` method of the `CircuitIR`, except for `init_kwargs` which contains all keyword arguments for the `compile` method of the `CircuitIR`.\n",
    "\n",
    "For visualization of the time series, we use a wrapper to `seaborn`."
   ]
  },
  {
   "cell_type": "code",
   "execution_count": null,
   "metadata": {
    "scrolled": false
   },
   "outputs": [],
   "source": [
    "from pyrates.utility.visualization import create_cmap, plot_timeseries\n",
    "import matplotlib.pyplot as plt\n",
    "\n",
    "fig, axes = plt.subplots(nrows=len(C), figsize=(10, 15))\n",
    "\n",
    "# create the color map\n",
    "cmap = create_cmap('pyrates_purple', as_cmap=False, n_colors=1, reverse=True)\n",
    "\n",
    "# plot the raw output variable for each condition\n",
    "for i, (ax, key) in enumerate(zip(axes, params.index)):\n",
    "    plot_timeseries(v.iloc[results.index > 1.0, i], ax=ax, cmap=cmap, \n",
    "                    ylabel='PSP')\n",
    "    ax.legend([f\"C = {params.loc[key, 'PC_EIN']}\"], loc='upper right')"
   ]
  },
  {
   "cell_type": "markdown",
   "metadata": {},
   "source": [
    "You can compare the outputs of `grid_search` to the simulation results reported in Jansen & Rit (1995, Biological Cybernetics). They investigated exactly the same parameter range and produced a figure pretty much like the one above."
   ]
  },
  {
   "cell_type": "markdown",
   "metadata": {},
   "source": [
    "## Part 5: How do I create models without YAML templates?\n",
    "\n",
    "Building models in the above described way has three advantages:\n",
    "1. the model definition requires a minimum of syntax\n",
    "2. defining a model via YAML templates means setting up an independent, reusable model configuration file (the .yml file) of small size that can easily be stored, shared and read without any python knowledge\n",
    "3. Each YAML template of a PyRates model structure can be reused as a base template for a new YAML template\n",
    "\n",
    "However, if you know your way around Python and you prefer to set up your full workflow (from model definition to simulation) in Python, this is also possible in PyRates. \n",
    "\n",
    "### Defining an Operator template\n",
    "\n",
    "To define an operator template from within Python, we will make use of the `OperatorTemplate` class again. However, instead of using the `from_yaml` method, we will simply instantiate it with the respective arguments:"
   ]
  },
  {
   "cell_type": "code",
   "execution_count": null,
   "metadata": {},
   "outputs": [],
   "source": [
    "from pyrates.frontend import OperatorTemplate\n",
    "pro = OperatorTemplate(name='PRO', path=None, \n",
    "                       equations=[\"m_out = 2.*m_max / (1 + exp(r*(V_th - V)))\"], \n",
    "                       variables={'m_out': {'default': 'output'},\n",
    "                                  'V': {'default': 'input'},\n",
    "                                  'V_thr': {'default': 6e-3},\n",
    "                                  'm_max': {'default': 2.5},\n",
    "                                  'r': {'default': 560.0}\n",
    "                                  },\n",
    "                       description=\"\")\n",
    "pro.variables"
   ]
  },
  {
   "cell_type": "markdown",
   "metadata": {},
   "source": [
    "In this case, we need the keyword arguments `equations` and `variables` to set up an operator (which is identical for the YAML operator template). As a general rule, every argument that is followed by a list of `- <value>`  entries in the YAML template also requires a Python list to be passed in the Python call (as for the `equations` argument above). Similarly, every argument that is followed by a list of `<key>: <value>`entries in the YAML template, requires a Python dictionary to be passed in the Python call (as for the `variables` argument above).\n",
    "\n",
    "### Defining Node and Circuit templates in pure Python\n",
    "\n",
    "We will skip defining the `RPO` operators, simply load them from YAML and jump ahead to a demonstration on how to create an operator and a circuit template without YAML."
   ]
  },
  {
   "cell_type": "code",
   "execution_count": null,
   "metadata": {},
   "outputs": [],
   "source": [
    "rpo_e_pc = OperatorTemplate.from_yaml(\"model_templates.jansen_rit.simple_jansenrit.RPO_e_pc\")\n",
    "rpo_i = OperatorTemplate.from_yaml(\"model_templates.jansen_rit.simple_jansenrit.RPO_i\")"
   ]
  },
  {
   "cell_type": "markdown",
   "metadata": {},
   "source": [
    "#### Node template\n",
    "\n",
    "We will use the example of the pyramidal cell node template. Again, we make use of the `NodeTemplate` class to set it up and provide the same arguments as for the YAML node template:"
   ]
  },
  {
   "cell_type": "code",
   "execution_count": null,
   "metadata": {},
   "outputs": [],
   "source": [
    "pc2 = NodeTemplate(name=\"PC\", path=None, operators=[pro, rpo_e_pc, rpo_i])\n",
    "pc2"
   ]
  },
  {
   "cell_type": "markdown",
   "metadata": {},
   "source": [
    "If you would like to change a default value on one of the operators, this would be possible by using a `dict` instead of a `list` for the `operators` keyword argument:"
   ]
  },
  {
   "cell_type": "code",
   "execution_count": null,
   "metadata": {},
   "outputs": [],
   "source": [
    "pc3 = NodeTemplate(name=\"PC\", path=None, operators={pro: {'r': 400.0}, rpo_e_pc: {}, rpo_i: {}})\n",
    "pc3"
   ]
  },
  {
   "cell_type": "markdown",
   "metadata": {},
   "source": [
    "Since the definition of the other two populations will follow the same structure, we will skip that here and simply load them from YAML."
   ]
  },
  {
   "cell_type": "code",
   "execution_count": null,
   "metadata": {},
   "outputs": [],
   "source": [
    "ein = NodeTemplate.from_yaml(\"model_templates.jansen_rit.simple_jansenrit.EIN\")\n",
    "iin = NodeTemplate.from_yaml(\"model_templates.jansen_rit.simple_jansenrit.IIN\")"
   ]
  },
  {
   "cell_type": "markdown",
   "metadata": {},
   "source": [
    "#### Circuit template\n",
    "\n",
    "Finally, to build a circuit without a YAML tempplate, use the `CircuitTemplate` class the following:"
   ]
  },
  {
   "cell_type": "code",
   "execution_count": null,
   "metadata": {},
   "outputs": [],
   "source": [
    "circuit2 = CircuitTemplate(name=\"JRC\", nodes={'PC': pc2, 'EIN': ein, 'IIN': iin},\n",
    "                           edges=[[\"PC/PRO/m_out\", \"IIN/RPO_e/m_in\", None, {'weight': 33.75}],\n",
    "                                  [\"PC/PRO/m_out\", \"EIN/RPO_e/m_in\", None, {'weight': 135.}],\n",
    "                                  [\"EIN/PRO/m_out\", \"PC/RPO_e_pc/m_in\", None, {'weight': 108.}],\n",
    "                                  [\"IIN/PRO/m_out\", \"PC/RPO_i/m_in\", None, {'weight': 33.75}]],\n",
    "                           path=None)\n",
    "circuit2.nodes"
   ]
  },
  {
   "cell_type": "markdown",
   "metadata": {},
   "source": [
    "From here on, the circuit template can be used the same way, as a YAML-based circuit template to create an intermediate representation. To be precise, for every template type (operator, node, edge and circuit) identical versions can be created via YAML or Python. For later modeling steps (setting up the intermediate representation, simulating the model behavior, ...), they are completely exchangeable."
   ]
  },
  {
   "cell_type": "code",
   "execution_count": null,
   "metadata": {},
   "outputs": [],
   "source": []
  }
 ],
 "metadata": {
  "kernelspec": {
   "display_name": "Python 3",
   "language": "python",
   "name": "python3"
  },
  "language_info": {
   "codemirror_mode": {
    "name": "ipython",
    "version": 3
   },
   "file_extension": ".py",
   "mimetype": "text/x-python",
   "name": "python",
   "nbconvert_exporter": "python",
   "pygments_lexer": "ipython3",
   "version": "3.7.4"
  }
 },
 "nbformat": 4,
 "nbformat_minor": 2
}
